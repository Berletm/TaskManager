{
 "cells": [
  {
   "cell_type": "code",
   "execution_count": 1,
   "metadata": {
    "collapsed": true
   },
   "outputs": [],
   "source": [
    "from structs.rbt import RBTree\n",
    "from structs.avl import AVLTree"
   ]
  },
  {
   "cell_type": "code",
   "execution_count": 2,
   "metadata": {},
   "outputs": [],
   "source": [
    "from test import rand_description_generator"
   ]
  },
  {
   "cell_type": "code",
   "execution_count": 3,
   "metadata": {},
   "outputs": [],
   "source": [
    "import time\n",
    "from pympler import asizeof\n",
    "import matplotlib.pyplot as plt"
   ]
  },
  {
   "cell_type": "code",
   "execution_count": 4,
   "metadata": {},
   "outputs": [],
   "source": [
    "avl_tree_inserting_time_data = []\n",
    "rb_tree_inserting_time_data = []\n",
    "\n",
    "avl_tree_mem_usage_data = []\n",
    "rb_tree_mem_usage_data = []"
   ]
  },
  {
   "cell_type": "code",
   "execution_count": 5,
   "metadata": {},
   "outputs": [
    {
     "name": "stdout",
     "output_type": "stream",
     "text": [
      "execution time for RB tree is: 0.0s\n",
      "mem usage for RB tree is 28912byte\n",
      "\n",
      "execution time for RB tree is: 0.005045652389526367s\n",
      "mem usage for RB tree is 280912byte\n",
      "\n",
      "execution time for RB tree is: 0.05602264404296875s\n",
      "mem usage for RB tree is 2800912byte\n",
      "\n",
      "execution time for RB tree is: 0.728600025177002s\n",
      "mem usage for RB tree is 11466832byte\n",
      "\n"
     ]
    },
    {
     "ename": "KeyboardInterrupt",
     "evalue": "",
     "output_type": "error",
     "traceback": [
      "\u001B[1;31m---------------------------------------------------------------------------\u001B[0m",
      "\u001B[1;31mKeyboardInterrupt\u001B[0m                         Traceback (most recent call last)",
      "\u001B[1;32m~\\AppData\\Local\\Temp\\ipykernel_6192\\1238234261.py\u001B[0m in \u001B[0;36m<module>\u001B[1;34m\u001B[0m\n\u001B[0;32m      6\u001B[0m \u001B[1;33m\u001B[0m\u001B[0m\n\u001B[0;32m      7\u001B[0m     \u001B[1;32mfor\u001B[0m \u001B[0mi\u001B[0m \u001B[1;32min\u001B[0m \u001B[0mrange\u001B[0m\u001B[1;33m(\u001B[0m\u001B[1;36m100\u001B[0m\u001B[1;33m*\u001B[0m\u001B[1;33m(\u001B[0m\u001B[1;36m10\u001B[0m\u001B[1;33m**\u001B[0m\u001B[0mj\u001B[0m\u001B[1;33m)\u001B[0m\u001B[1;33m)\u001B[0m\u001B[1;33m:\u001B[0m\u001B[1;33m\u001B[0m\u001B[1;33m\u001B[0m\u001B[0m\n\u001B[1;32m----> 8\u001B[1;33m         \u001B[0mrbt\u001B[0m\u001B[1;33m.\u001B[0m\u001B[0minsert\u001B[0m\u001B[1;33m(\u001B[0m\u001B[0mi\u001B[0m\u001B[1;33m,\u001B[0m \u001B[0mrand_description_generator\u001B[0m\u001B[1;33m(\u001B[0m\u001B[1;33m)\u001B[0m\u001B[1;33m)\u001B[0m\u001B[1;33m\u001B[0m\u001B[1;33m\u001B[0m\u001B[0m\n\u001B[0m\u001B[0;32m      9\u001B[0m \u001B[1;33m\u001B[0m\u001B[0m\n\u001B[0;32m     10\u001B[0m     \u001B[0mend_time\u001B[0m \u001B[1;33m=\u001B[0m \u001B[0mtime\u001B[0m\u001B[1;33m.\u001B[0m\u001B[0mtime\u001B[0m\u001B[1;33m(\u001B[0m\u001B[1;33m)\u001B[0m\u001B[1;33m\u001B[0m\u001B[1;33m\u001B[0m\u001B[0m\n",
      "\u001B[1;32m~\\PycharmProjects\\TaskManager\\src\\structs\\rbt.py\u001B[0m in \u001B[0;36minsert\u001B[1;34m(self, value, task)\u001B[0m\n\u001B[0;32m     66\u001B[0m                 \u001B[0mcur_node\u001B[0m \u001B[1;33m=\u001B[0m \u001B[0mcur_node\u001B[0m\u001B[1;33m.\u001B[0m\u001B[0mleft\u001B[0m\u001B[1;33m\u001B[0m\u001B[1;33m\u001B[0m\u001B[0m\n\u001B[0;32m     67\u001B[0m             \u001B[1;32melse\u001B[0m\u001B[1;33m:\u001B[0m\u001B[1;33m\u001B[0m\u001B[1;33m\u001B[0m\u001B[0m\n\u001B[1;32m---> 68\u001B[1;33m                 \u001B[0mcur_node\u001B[0m \u001B[1;33m=\u001B[0m \u001B[0mcur_node\u001B[0m\u001B[1;33m.\u001B[0m\u001B[0mright\u001B[0m\u001B[1;33m\u001B[0m\u001B[1;33m\u001B[0m\u001B[0m\n\u001B[0m\u001B[0;32m     69\u001B[0m \u001B[1;33m\u001B[0m\u001B[0m\n\u001B[0;32m     70\u001B[0m         \u001B[0mnode\u001B[0m\u001B[1;33m.\u001B[0m\u001B[0mparent\u001B[0m \u001B[1;33m=\u001B[0m \u001B[0mparent\u001B[0m\u001B[1;33m\u001B[0m\u001B[1;33m\u001B[0m\u001B[0m\n",
      "\u001B[1;31mKeyboardInterrupt\u001B[0m: "
     ]
    }
   ],
   "source": [
    "\"\"\" insert time test for RBT \"\"\"\n",
    "\n",
    "for j in range(0, 5):\n",
    "    rbt = RBTree()\n",
    "    start_time = time.time()\n",
    "\n",
    "    for i in range(100*(10**j)):\n",
    "        rbt.insert(i, rand_description_generator())\n",
    "\n",
    "    end_time = time.time()\n",
    "\n",
    "    exec_time = end_time - start_time\n",
    "    mem_usage = asizeof.asizeof(rbt)\n",
    "\n",
    "    rb_tree_inserting_time_data.append(exec_time)\n",
    "    rb_tree_mem_usage_data.append(mem_usage)\n",
    "\n",
    "    print(f\"execution time for RB tree is: {exec_time}s\")\n",
    "    print(f\"mem usage for RB tree is {mem_usage}byte\")\n",
    "    print()"
   ]
  },
  {
   "cell_type": "code",
   "execution_count": null,
   "metadata": {},
   "outputs": [],
   "source": [
    "\"\"\" insert time test for AVL \"\"\"\n",
    "\n",
    "for j in range(0, 5):\n",
    "    avl = AVLTree()\n",
    "    start_time = time.time()\n",
    "\n",
    "    for i in range(100*(10**j)):\n",
    "        avl.insert(i, rand_description_generator())\n",
    "\n",
    "    end_time = time.time()\n",
    "\n",
    "    exec_time = end_time - start_time\n",
    "    mem_usage = asizeof.asizeof(avl)\n",
    "\n",
    "    avl_tree_mem_usage_data.append(mem_usage)\n",
    "    avl_tree_inserting_time_data.append(exec_time)\n",
    "    print(f\"execution time for AVL tree is: {exec_time}s\")\n",
    "    print(f\"mem usage for AVL tree is {mem_usage}byte\")\n",
    "    print()"
   ]
  },
  {
   "cell_type": "code",
   "execution_count": null,
   "metadata": {},
   "outputs": [],
   "source": [
    "fig, ax = plt.subplots()\n",
    "ax.set_yscale(\"log\")\n",
    "ax.set_xscale(\"log\")\n",
    "ax.plot(avl_tree_inserting_time_data, label=\"avl\")\n",
    "ax.plot(rb_tree_inserting_time_data, label=\"rb\")\n",
    "ax.legend()\n",
    "plt.show()"
   ]
  },
  {
   "cell_type": "code",
   "execution_count": null,
   "metadata": {},
   "outputs": [],
   "source": [
    "fig1, ax1 = plt.subplots()\n",
    "ax1.plot(avl_tree_inserting_time_data, label=\"avl\")\n",
    "ax1.plot(rb_tree_inserting_time_data, label=\"rb\")\n",
    "ax1.legend()"
   ]
  },
  {
   "cell_type": "code",
   "execution_count": null,
   "outputs": [],
   "source": [
    "fig0, ax0 = plt.subplots()\n",
    "ax0.plot(avl_tree_mem_usage_data, label=\"avl\")\n",
    "ax0.plot(rb_tree_mem_usage_data, label=\"rb\")\n",
    "ax0.legend()"
   ],
   "metadata": {
    "collapsed": false
   }
  },
  {
   "cell_type": "code",
   "execution_count": null,
   "metadata": {},
   "outputs": [],
   "source": [
    "avl_tree_deletion_time_data = []\n",
    "rb_tree_deletion_time_data = []"
   ]
  },
  {
   "cell_type": "code",
   "execution_count": null,
   "metadata": {},
   "outputs": [],
   "source": [
    "\"\"\" deletion time test avl tree \"\"\"\n",
    "\n",
    "for j in range(0, 5):\n",
    "    avl = AVLTree()\n",
    "\n",
    "    for i in range(100*(10**j)):\n",
    "        avl.insert(i, rand_description_generator())\n",
    "\n",
    "    start_time = time.time()\n",
    "\n",
    "    for i in range(100*(10**j)):\n",
    "        avl.remove_root(i)\n",
    "\n",
    "    end_time = time.time()\n",
    "    exec_time = end_time - start_time\n",
    "    avl_tree_deletion_time_data.append(exec_time)\n",
    "    print(f\"execution time for AVL tree is: {exec_time}s\")\n"
   ]
  },
  {
   "cell_type": "code",
   "execution_count": null,
   "metadata": {},
   "outputs": [],
   "source": [
    "\"\"\" deletion time test rb tree \"\"\"\n",
    "\n",
    "for j in range(0, 5):\n",
    "    rbt = RBTree()\n",
    "\n",
    "    for i in range(100*(10**j)):\n",
    "        rbt.insert(i, rand_description_generator())\n",
    "\n",
    "    start_time = time.time()\n",
    "\n",
    "    for i in range(100*(10**j)):\n",
    "        rbt.delete(i)\n",
    "\n",
    "    end_time = time.time()\n",
    "    exec_time = end_time - start_time\n",
    "    rb_tree_deletion_time_data.append(exec_time)\n",
    "    print(f\"execution time for RB tree is: {exec_time}s\")"
   ]
  },
  {
   "cell_type": "code",
   "execution_count": null,
   "metadata": {},
   "outputs": [],
   "source": [
    "fig2, ax2 = plt.subplots()\n",
    "ax2.set_xscale(\"log\")\n",
    "ax2.set_yscale(\"log\")\n",
    "ax2.plot(avl_tree_deletion_time_data, label=\"avl\")\n",
    "ax2.plot(rb_tree_deletion_time_data, label=\"rb\")\n",
    "ax2.legend()"
   ]
  },
  {
   "cell_type": "code",
   "execution_count": null,
   "metadata": {},
   "outputs": [],
   "source": [
    "fig3, ax3 = plt.subplots()\n",
    "ax3.plot(avl_tree_deletion_time_data, label=\"avl\")\n",
    "ax3.plot(rb_tree_deletion_time_data, label=\"rb\")\n",
    "ax3.legend()"
   ]
  }
 ],
 "metadata": {
  "kernelspec": {
   "display_name": "Python 3 (ipykernel)",
   "language": "python",
   "name": "python3"
  },
  "language_info": {
   "codemirror_mode": {
    "name": "ipython",
    "version": 3
   },
   "file_extension": ".py",
   "mimetype": "text/x-python",
   "name": "python",
   "nbconvert_exporter": "python",
   "pygments_lexer": "ipython3",
   "version": "3.9.13"
  }
 },
 "nbformat": 4,
 "nbformat_minor": 1
}
